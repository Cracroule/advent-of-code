{
 "cells": [
  {
   "cell_type": "markdown",
   "id": "8c985c45-95ab-48c3-ab17-6d433a436ea9",
   "metadata": {},
   "source": [
    "# day 1"
   ]
  },
  {
   "cell_type": "code",
   "execution_count": 1,
   "id": "4256fba2-6950-4897-b42b-dde4c08af6c4",
   "metadata": {},
   "outputs": [
    {
     "data": {
      "text/plain": [
       "1616"
      ]
     },
     "execution_count": 1,
     "metadata": {},
     "output_type": "execute_result"
    }
   ],
   "source": [
    "file = open('input1.txt', 'r')\n",
    "l = [int(e.replace('\\n', '')) for e in file.readlines()]\n",
    "sum([l[i+1] > l[i] for i in range(len(l) - 1)])"
   ]
  },
  {
   "cell_type": "code",
   "execution_count": 2,
   "id": "ed1d0317-02a0-4ffc-9068-f056ca3a166b",
   "metadata": {},
   "outputs": [
    {
     "data": {
      "text/plain": [
       "1645"
      ]
     },
     "execution_count": 2,
     "metadata": {},
     "output_type": "execute_result"
    }
   ],
   "source": [
    "file = open('input1.txt', 'r')\n",
    "l = [int(e.replace('\\n', '')) for e in file.readlines()]\n",
    "l2 = [sum(l[i:i+3]) for i in range(len(l) - 2)]\n",
    "sum([l2[i+1] > l2[i] for i in range(len(l2) - 1)])"
   ]
  },
  {
   "cell_type": "markdown",
   "id": "47b90051-34bd-4a87-a874-da66d6ae8f09",
   "metadata": {},
   "source": [
    "# day 2"
   ]
  },
  {
   "cell_type": "code",
   "execution_count": 3,
   "id": "cb85e5fe-85a8-4492-b50c-e0673153da34",
   "metadata": {},
   "outputs": [
    {
     "name": "stdout",
     "output_type": "stream",
     "text": [
      "[1967, 1031] --> 2027977\n"
     ]
    }
   ],
   "source": [
    "# file = open('test2a.txt', 'r')\n",
    "file = open('input2.txt', 'r')\n",
    "l = [e.replace('\\n', '').split(\" \") for e in file.readlines()]\n",
    "\n",
    "p = [0, 0]\n",
    "for instr in l:\n",
    "    mv = int(instr[1])\n",
    "    if instr[0] == \"forward\":\n",
    "        p[0] += mv\n",
    "    elif instr[0] == \"down\":\n",
    "        p[1] += mv\n",
    "    elif instr[0] == \"up\":\n",
    "        p[1] -= mv\n",
    "    else:\n",
    "        Exception(\"unknown instruction\")\n",
    "\n",
    "print(p, \"-->\", p[0] * p[1])"
   ]
  },
  {
   "cell_type": "code",
   "execution_count": 4,
   "id": "45f9591a-aeca-4ba3-b0b0-5e3f4c56382c",
   "metadata": {},
   "outputs": [
    {
     "name": "stdout",
     "output_type": "stream",
     "text": [
      "[1967, 967791] --> 1903644897\n"
     ]
    }
   ],
   "source": [
    "# file = open('test2a.txt', 'r')\n",
    "file = open('input2.txt', 'r')\n",
    "l = [e.replace('\\n', '').split(\" \") for e in file.readlines()]\n",
    "\n",
    "p = [0, 0]\n",
    "aim = 0\n",
    "for instr in l:\n",
    "    mv = int(instr[1])\n",
    "    if instr[0] == \"forward\":\n",
    "        p[0] += mv\n",
    "        p[1] += aim * mv\n",
    "    elif instr[0] == \"down\":\n",
    "        aim += mv\n",
    "    elif instr[0] == \"up\":\n",
    "        aim -= mv\n",
    "    else:\n",
    "        Exception(\"unknown instruction\")\n",
    "    # print(p, aim)\n",
    "\n",
    "print(p, \"-->\", p[0] * p[1])"
   ]
  },
  {
   "cell_type": "markdown",
   "id": "1bc49042-d9a4-45ba-8759-cf723f99ed66",
   "metadata": {},
   "source": [
    "# day 3"
   ]
  },
  {
   "cell_type": "code",
   "execution_count": 5,
   "id": "702d4f95-c0be-4c28-b1aa-75d28fd791fe",
   "metadata": {},
   "outputs": [],
   "source": [
    "import copy\n",
    "\n",
    "\n",
    "def get_col(i, l):\n",
    "    return [e[i] for e in l]\n",
    "\n",
    "\n",
    "def most_common(l):\n",
    "    # returns 1 if ties (oxygen rule, day 3)\n",
    "    if l.count(0) <= l.count(1):\n",
    "        return 1\n",
    "    return 0\n",
    "\n",
    "\n",
    "def convert_to_int(base_2_lst):\n",
    "    return int(\"\".join([str(i) for i in base_2_lst]), 2)"
   ]
  },
  {
   "cell_type": "code",
   "execution_count": 6,
   "id": "ec1ba521-75b4-4e9e-a4b8-2310569260c3",
   "metadata": {},
   "outputs": [
    {
     "data": {
      "text/plain": [
       "4174964"
      ]
     },
     "execution_count": 6,
     "metadata": {},
     "output_type": "execute_result"
    }
   ],
   "source": [
    "# file = open('test3a.txt', 'r')\n",
    "file = open('input3.txt', 'r')\n",
    "l = [[int(b) for b in e.replace('\\n', '')] for e in file.readlines()]\n",
    "\n",
    "n_col = len(l[0])\n",
    "\n",
    "gamma, epsilon = list(), list()\n",
    "for i in range(n_col):\n",
    "    gamma.append(most_common(get_col(i, l)))\n",
    "    epsilon.append(1 - gamma[-1])\n",
    "\n",
    "convert_to_int(gamma) * convert_to_int(epsilon)"
   ]
  },
  {
   "cell_type": "code",
   "execution_count": 7,
   "id": "5c1bd307-b5eb-475b-800f-1f26c4e94de8",
   "metadata": {},
   "outputs": [
    {
     "data": {
      "text/plain": [
       "4474944"
      ]
     },
     "execution_count": 7,
     "metadata": {},
     "output_type": "execute_result"
    }
   ],
   "source": [
    "# file = open('test3a.txt', 'r')\n",
    "file = open('input3.txt', 'r')\n",
    "l = [[int(b) for b in e.replace('\\n', '')] for e in file.readlines()]\n",
    "\n",
    "n_col = len(l[0])\n",
    "\n",
    "l_ox, l_co2 = copy.deepcopy(l), copy.deepcopy(l)\n",
    "ox, co2 = None, None\n",
    "for i in range(len(l_ox[0])):\n",
    "    if ox is None:\n",
    "        mc_ox = most_common(get_col(i, l_ox))\n",
    "        l_ox = [r for r in l_ox if r[i] == mc_ox]\n",
    "        if len(l_ox) == 1:\n",
    "            ox = convert_to_int(l_ox[0])\n",
    "    if co2 is None:\n",
    "        mc_co2 = most_common(get_col(i, l_co2))\n",
    "        l_co2 = [r for r in l_co2 if r[i] == (1-mc_co2)]\n",
    "        if len(l_co2) == 1:\n",
    "            co2 = convert_to_int(l_co2[0])\n",
    "            # break\n",
    "    if ox is not None and co2 is not None:\n",
    "        break\n",
    "\n",
    "ox * co2"
   ]
  },
  {
   "cell_type": "markdown",
   "id": "6b4701bb-9abc-4489-8c83-d05f3f655d38",
   "metadata": {},
   "source": [
    "# day 4"
   ]
  },
  {
   "cell_type": "code",
   "execution_count": 8,
   "id": "754cf1d3-a943-4f3a-bcf5-ba65a960712a",
   "metadata": {},
   "outputs": [],
   "source": [
    "def tick_in_board(d, board):\n",
    "    for i, r in enumerate(board):\n",
    "        for j, e in enumerate(r):\n",
    "            if e == d:\n",
    "                board[i][j] = None\n",
    "\n",
    "\n",
    "def check_win(board):\n",
    "    if max([r.count(None) for r in board]) == len(board[0]):\n",
    "        return True\n",
    "    if max([get_col(i, board).count(None) for i in range(len(board[0]))]) == len(board):\n",
    "        return True\n",
    "    return False\n",
    "\n",
    "\n",
    "def sum_board(board):\n",
    "    return sum([e for r in board for e in r if e is not None])"
   ]
  },
  {
   "cell_type": "code",
   "execution_count": 9,
   "id": "e9969200-6462-4211-8bfd-072619616c4b",
   "metadata": {},
   "outputs": [
    {
     "data": {
      "text/plain": [
       "72770"
      ]
     },
     "execution_count": 9,
     "metadata": {},
     "output_type": "execute_result"
    }
   ],
   "source": [
    "# file = open('test4a.txt', 'r')\n",
    "file = open('input4.txt', 'r')\n",
    "all_inputs = [e.replace('\\n', '').split(\" \") for e in file.readlines()]\n",
    "drawn = [int(e) for e in all_inputs[0][0].split(\",\")]\n",
    "\n",
    "boards = list()\n",
    "cur_board = list()\n",
    "for r in all_inputs[2:]:\n",
    "    if len(r) == 1 and r[0] == '':\n",
    "        boards.append(cur_board)\n",
    "        cur_board = list()\n",
    "        continue\n",
    "    cur_board.append([int(e) for e in r if e != ''])\n",
    "boards.append(cur_board)\n",
    "\n",
    "\n",
    "def play(boards, drawn):\n",
    "    for d in drawn:\n",
    "        for b in boards:\n",
    "            tick_in_board(d, b)\n",
    "            if check_win(b):\n",
    "                return sum_board(b) * d\n",
    "\n",
    "play(boards, drawn)"
   ]
  },
  {
   "cell_type": "code",
   "execution_count": 10,
   "id": "d2ad731f-eda5-42f2-95ea-4ba74ebe4e27",
   "metadata": {},
   "outputs": [
    {
     "data": {
      "text/plain": [
       "13912"
      ]
     },
     "execution_count": 10,
     "metadata": {},
     "output_type": "execute_result"
    }
   ],
   "source": [
    "# file = open('test4a.txt', 'r')\n",
    "file = open('input4.txt', 'r')\n",
    "all_inputs = [e.replace('\\n', '').split(\" \") for e in file.readlines()]\n",
    "drawn = [int(e) for e in all_inputs[0][0].split(\",\")]\n",
    "\n",
    "boards = list()\n",
    "cur_board = list()\n",
    "for r in all_inputs[2:]:\n",
    "    if len(r) == 1 and r[0] == '':\n",
    "        boards.append(cur_board)\n",
    "        cur_board = list()\n",
    "        continue\n",
    "    cur_board.append([int(e) for e in r if e != ''])\n",
    "boards.append(cur_board)\n",
    "\n",
    "\n",
    "def play(boards, drawn):\n",
    "    won_boards_ind = list()\n",
    "    for d in drawn:\n",
    "        for b_i, b in enumerate(boards):\n",
    "            if b_i in won_boards_ind:\n",
    "                continue\n",
    "            tick_in_board(d, b)\n",
    "            if check_win(b):\n",
    "                won_boards_ind.append(b_i)\n",
    "                if len(won_boards_ind) == len(boards):\n",
    "                    return sum_board(b) * d\n",
    "\n",
    "play(boards, drawn)"
   ]
  },
  {
   "cell_type": "markdown",
   "id": "9164433e-3d7a-4964-9720-b2ea1cd856ab",
   "metadata": {},
   "source": [
    "# day 5"
   ]
  },
  {
   "cell_type": "code",
   "execution_count": 11,
   "id": "4a3106cd-1b94-4b1f-814f-3ccf0adb4282",
   "metadata": {},
   "outputs": [
    {
     "data": {
      "text/plain": [
       "4826"
      ]
     },
     "execution_count": 11,
     "metadata": {},
     "output_type": "execute_result"
    }
   ],
   "source": [
    "# file = open('test5a.txt', 'r')\n",
    "file = open('input5.txt', 'r')\n",
    "all_inputs = [e.replace('\\n', '').split(\" -> \") for e in file.readlines()]\n",
    "inputs = [[[int(e) for e in r[0].split(\",\")],\n",
    "           [int(e) for e in r[1].split(\",\")]] for r in all_inputs]\n",
    "\n",
    "max_x = max([max(r[0][0], r[1][0]) for r in inputs])\n",
    "max_y = max([max(r[0][1], r[1][1]) for r in inputs])\n",
    "\n",
    "m = list()  # create matrix\n",
    "for y in range(max_y + 1):\n",
    "    m.append([0] * (max_x + 1))\n",
    "\n",
    "for w in inputs:\n",
    "    if w[0][0] == w[1][0]:\n",
    "        x = w[0][0]\n",
    "        y1 = w[0][1]\n",
    "        y2 = w[1][1]\n",
    "        for y_i, _ in enumerate(m):\n",
    "            if min(y1, y2) <= y_i <= max(y1, y2):\n",
    "                m[y_i][x] += 1\n",
    "    if w[0][1] == w[1][1]:\n",
    "        y = w[0][1]\n",
    "        x1 = w[0][0]\n",
    "        x2 = w[1][0]\n",
    "        for x_i, _ in enumerate(m[y]):\n",
    "            if min(x1, x2) <= x_i <= max(x1, x2):\n",
    "                m[y][x_i] += 1\n",
    "\n",
    "sum([e >= 2 for r in m for e in r])"
   ]
  },
  {
   "cell_type": "code",
   "execution_count": 12,
   "id": "7251687a-ac6f-45fb-88a3-4a81072b0b22",
   "metadata": {},
   "outputs": [
    {
     "data": {
      "text/plain": [
       "16793"
      ]
     },
     "execution_count": 12,
     "metadata": {},
     "output_type": "execute_result"
    }
   ],
   "source": [
    "# file = open('test5a.txt', 'r')\n",
    "file = open('input5.txt', 'r')\n",
    "all_inputs = [e.replace('\\n', '').split(\" -> \") for e in file.readlines()]\n",
    "inputs = [[[int(e) for e in r[0].split(\",\")],\n",
    "           [int(e) for e in r[1].split(\",\")]] for r in all_inputs]\n",
    "\n",
    "max_x = max([max(r[0][0], r[1][0]) for r in inputs])\n",
    "max_y = max([max(r[0][1], r[1][1]) for r in inputs])\n",
    "\n",
    "m = list()  # create matrix\n",
    "for y in range(max_y + 1):\n",
    "    m.append([0] * (max_x + 1))\n",
    "\n",
    "for w in inputs:\n",
    "    if w[0][0] == w[1][0]:\n",
    "        x = w[0][0]\n",
    "        y1 = w[0][1]\n",
    "        y2 = w[1][1]\n",
    "        for y_i, _ in enumerate(m):\n",
    "            if min(y1, y2) <= y_i <= max(y1, y2):\n",
    "                m[y_i][x] += 1\n",
    "    if w[0][1] == w[1][1]:\n",
    "        y = w[0][1]\n",
    "        x1 = w[0][0]\n",
    "        x2 = w[1][0]\n",
    "        for x_i, _ in enumerate(m[y]):\n",
    "            if min(x1, x2) <= x_i <= max(x1, x2):\n",
    "                m[y][x_i] += 1\n",
    "    if abs(w[1][0] - w[0][0]) == abs(w[1][1] - w[0][1]):\n",
    "        n = abs(w[1][0] - w[0][0]) + 1\n",
    "        x_s = w[0][0]\n",
    "        y_s = w[0][1]\n",
    "        x_dir = (w[1][0] - w[0][0]) / abs(w[1][0] - w[0][0])\n",
    "        y_dir = (w[1][1] - w[0][1]) / abs(w[1][1] - w[0][1])\n",
    "        for i in range(n):\n",
    "            m[y_s + int(i * y_dir)][x_s + int(i * x_dir)] += 1\n",
    "\n",
    "sum([e >= 2 for r in m for e in r])"
   ]
  },
  {
   "cell_type": "markdown",
   "id": "d91f1c23-5fb2-4560-9057-f8ff45a09b08",
   "metadata": {},
   "source": [
    "# day 6"
   ]
  },
  {
   "cell_type": "code",
   "execution_count": 13,
   "id": "5d5c5b2e-fdd2-4da4-9b0a-470b2109b4c0",
   "metadata": {},
   "outputs": [
    {
     "name": "stdout",
     "output_type": "stream",
     "text": [
      "part a: 380243\n",
      "part b: 1708791884591\n"
     ]
    }
   ],
   "source": [
    "from collections import defaultdict\n",
    "\n",
    "# input_file = \"test6.txt\"\n",
    "input_file = \"input6.txt\"\n",
    "with open(input_file, 'r') as f:\n",
    "    all_inputs = [e.replace(\"\\n\", \"\").split(\",\") for e in f.readlines()]\n",
    "inputs = [int(i) for i in all_inputs[0]]\n",
    "\n",
    "d = defaultdict(int)\n",
    "for i in inputs:\n",
    "    d[i] += 1\n",
    "\n",
    "for day in range(1, 256+1):\n",
    "    dn = defaultdict(int)\n",
    "    dn[8] += d[0]\n",
    "    dn[6] += d[0]\n",
    "    for i in range(8):\n",
    "        dn[i] += d[i+1]\n",
    "    d = dn\n",
    "    if day == 80:\n",
    "        print(\"part a:\", sum(dn.values()))\n",
    "\n",
    "print(\"part b:\", sum(dn.values()))"
   ]
  },
  {
   "cell_type": "markdown",
   "id": "c367e262-67ab-4a3c-899b-de252dfd7495",
   "metadata": {},
   "source": [
    "# day 7"
   ]
  },
  {
   "cell_type": "code",
   "execution_count": 14,
   "id": "c21073e3-0be4-47bb-8e7b-4ab36d220743",
   "metadata": {},
   "outputs": [
    {
     "data": {
      "text/plain": [
       "351901"
      ]
     },
     "execution_count": 14,
     "metadata": {},
     "output_type": "execute_result"
    }
   ],
   "source": [
    "import statistics\n",
    "\n",
    "# input_file = \"test7.txt\"\n",
    "input_file = \"input7.txt\"\n",
    "with open(input_file, 'r') as f:\n",
    "    all_inputs = [e.replace(\"\\n\", \"\").split(\",\") for e in f.readlines()]\n",
    "inputs = [int(i) for i in all_inputs[0]]\n",
    "\n",
    "x_obj = int(statistics.median(inputs))\n",
    "sum([abs(i - x_obj) for i in inputs])"
   ]
  },
  {
   "cell_type": "code",
   "execution_count": 15,
   "id": "9b9127c5-d4de-469e-bac9-72c2724e38d0",
   "metadata": {},
   "outputs": [
    {
     "data": {
      "text/plain": [
       "101079875"
      ]
     },
     "execution_count": 15,
     "metadata": {},
     "output_type": "execute_result"
    }
   ],
   "source": [
    "# input_file = \"test7.txt\"\n",
    "input_file = \"input7.txt\"\n",
    "with open(input_file, 'r') as f:\n",
    "    all_inputs = [e.replace(\"\\n\", \"\").split(\",\") for e in f.readlines()]\n",
    "inputs = [int(i) for i in all_inputs[0]]\n",
    "\n",
    "\n",
    "def cost(dist):\n",
    "    return int(dist * (dist + 1) / 2)\n",
    "\n",
    "\n",
    "min([sum([cost(abs(i - x_obj)) for i in inputs]) for x_obj in range(1, max(inputs) + 1)])"
   ]
  },
  {
   "cell_type": "markdown",
   "id": "f325a16d-25e6-4767-bce0-6b5f8aa0481f",
   "metadata": {},
   "source": [
    "# day 8"
   ]
  },
  {
   "cell_type": "code",
   "execution_count": 12,
   "id": "ef6eceb9-12ff-44e0-ac89-8a3bc8d5517e",
   "metadata": {},
   "outputs": [
    {
     "data": {
      "text/plain": [
       "274"
      ]
     },
     "execution_count": 12,
     "metadata": {},
     "output_type": "execute_result"
    }
   ],
   "source": [
    "# input_file = \"test8.txt\"\n",
    "input_file = \"input8.txt\"\n",
    "with open(input_file, 'r') as f:\n",
    "    all_inputs = [e.replace(\"\\n\", \"\").split(\" | \") for e in f.readlines()]\n",
    "inputs = [[r[0].split(\" \"), r[1].split(\" \")] for r in all_inputs]\n",
    "\n",
    "counter = 0\n",
    "for r in inputs:\n",
    "    counter += len([e for e in r[1] if len(e) in (2, 3, 4, 7)])\n",
    "\n",
    "counter"
   ]
  },
  {
   "cell_type": "code",
   "execution_count": 68,
   "id": "5f02f85a-6165-4889-8844-5e6fcd10fe48",
   "metadata": {},
   "outputs": [
    {
     "name": "stdout",
     "output_type": "stream",
     "text": [
      "['be', 'cfbegad', 'cbdgef', 'fgaecd', 'cgeb', 'fdcge', 'agebfd', 'fecdb', 'fabcd', 'edb']\n"
     ]
    }
   ],
   "source": [
    "input_file = \"test8.txt\"\n",
    "# input_file = \"input8.txt\"\n",
    "with open(input_file, 'r') as f:\n",
    "    all_inputs = [e.replace(\"\\n\", \"\").split(\" | \") for e in f.readlines()]\n",
    "inputs = [[r[0].split(\" \"), r[1].split(\" \")] for r in all_inputs]\n",
    "\n",
    "# counter = 0\n",
    "for r in inputs[0:1]:\n",
    "    print(r[0])\n",
    "    s_one = set([w for w in r[0] if len(w) == 2][0])\n",
    "    s_eight = set([w for w in r[0] if len(w) == 7][0])\n",
    "\n",
    "    w_6l = [w for w in r[0] if len(w) == 6]\n",
    "    w_5l = [w for w in r[0] if len(w) == 5]\n",
    "    missing_l_w_6l = [list(s_eight - set(w))[0] for w in w_6l]\n",
    "    missing_l_w_5l = [list(s_eight - set(w)) for w in w_5l]\n",
    "\n",
    "    p3_l = list(s_one.intersection(missing_l_w_6l))[0]\n",
    "    p6_l = list(s_one - set(p3_l))[0]\n",
    "\n",
    "    s_two = s_eight - set([w for w in missing_l_w_5l if p6_l in w][0])\n",
    "    missing_l_for_five = set([w for w in missing_l_w_5l if p3_l in w][0])\n",
    "    p5_l = list(missing_l_for_five - set(p3_l))[0]\n",
    "    s_five = s_eight - missing_l_for_five\n",
    "    s_three = s_eight - set([w for w in missing_l_w_5l if (p6_l not in w and p3_l not in w)][0])\n",
    "\n",
    "    s_six = s_eight - set(p3_l)\n",
    "    s_nine = s_eight - set(p5_l)\n",
    "    s_zero = s_eight - set([w for w in missing_l_w_5l if (p5_l not in w and p3_l not in w)][0])\n",
    "\n",
    "    s_four = set([w for w in r[0] if len(w) == 4][0])\n",
    "\n",
    "    # we have them all!\n",
    "\n",
    "\n",
    "    # w_2l\n",
    "\n",
    "# counter"
   ]
  },
  {
   "cell_type": "code",
   "execution_count": 69,
   "id": "ce34ec00-9c27-45f0-bca0-1e9fcca9e45a",
   "metadata": {},
   "outputs": [
    {
     "data": {
      "text/plain": [
       "{'a', 'b', 'c', 'd', 'f'}"
      ]
     },
     "execution_count": 69,
     "metadata": {},
     "output_type": "execute_result"
    }
   ],
   "source": [
    "s_zero"
   ]
  },
  {
   "cell_type": "code",
   "execution_count": 57,
   "id": "989600ca-456c-46a1-a4b9-d4fca71d72fe",
   "metadata": {},
   "outputs": [
    {
     "data": {
      "text/plain": [
       "['b']"
      ]
     },
     "execution_count": 57,
     "metadata": {},
     "output_type": "execute_result"
    }
   ],
   "source": [
    "p3_l"
   ]
  },
  {
   "cell_type": "code",
   "execution_count": 16,
   "id": "3a755308-f871-40be-aadb-374267d7b60a",
   "metadata": {},
   "outputs": [
    {
     "data": {
      "text/plain": [
       "[['be',\n",
       "  'cfbegad',\n",
       "  'cbdgef',\n",
       "  'fgaecd',\n",
       "  'cgeb',\n",
       "  'fdcge',\n",
       "  'agebfd',\n",
       "  'fecdb',\n",
       "  'fabcd',\n",
       "  'edb'],\n",
       " ['fdgacbe', 'cefdb', 'cefbgd', 'gcbe']]"
      ]
     },
     "execution_count": 16,
     "metadata": {},
     "output_type": "execute_result"
    }
   ],
   "source": [
    "inputs[0]"
   ]
  },
  {
   "cell_type": "code",
   "execution_count": null,
   "id": "87b4f917-18e4-473d-b12e-fafc5488f8f9",
   "metadata": {},
   "outputs": [],
   "source": []
  }
 ],
 "metadata": {
  "kernelspec": {
   "display_name": "Python:conda-envs-data-processing",
   "language": "python",
   "name": "conda-env-conda-envs-data-processing-py"
  },
  "language_info": {
   "codemirror_mode": {
    "name": "ipython",
    "version": 3
   },
   "file_extension": ".py",
   "mimetype": "text/x-python",
   "name": "python",
   "nbconvert_exporter": "python",
   "pygments_lexer": "ipython3",
   "version": "3.9.7"
  }
 },
 "nbformat": 4,
 "nbformat_minor": 5
}
